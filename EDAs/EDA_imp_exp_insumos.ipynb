<<<<<<< HEAD

=======
{
 "cells": [
  {
   "attachments": {},
   "cell_type": "markdown",
   "id": "888368e1-d98d-499f-8f54-96ef81e98d69",
   "metadata": {},
   "source": [
    "# **Exploratory Data Analysis (EDA)**\n",
    "\n",
    "Debido al hecho de que GitHub realiza una representación estática de los cuadernos y no incluye el HTML/JavaScript incrustado que forma un gráfico de trama, y teniendo en cuenta que para presentar la información de una forma más amena e interactiva se hizo uso de la librería `Plotly` de Python la cual crea este tipo de gráficas combinadas con HTML, no es posible verlas directamente en este Notebook, **por lo que lo invitamos a observar este mismo Notebook de forma renderizada en el link de [acá](https://colab.research.google.com/drive/1p0FWH910-PoQFoOyjRlZKUN1Ja_gDq26?usp=sharing)** el cual es un Gooogle Colab con el código que le permitirá interactuar con el mismo.\n",
    "\n",
    "Las conclusiones sobre estos EDA´s podrán ser encontradas en el archivo `ConclusionesEDA.md` incluido en esta carpeta.\n",
    "\n",
    "---\n",
    "El Análisis Exploratorio de Datos, conocido en sus siglas en inglés como Exploratory Data Analysis (EDA), es un enfoque inicial que se utiliza para analizar y comprender la estructura, patrones y relaciones de un conjunto de datos antes de aplicar cualquier modelo o técnica de Machine Learning. El propósito del EDA es identificar aspectos importantes del conjunto de datos, detectar anomalías, probar hipótesis y verificar suposiciones, todo lo cual puede influir en las decisiones sobre qué tipo de modelo o técnicas aplicar más adelante. Este paso se vuelve entonces fundamental en nuestro proyecto, **Cultivando Conexiones: Estudio Integrado de las Dinámicas del Panorama Agrícola en Colombia**, debido a que la base de toda nuestra idea es la búsqueda de patrones y comportamientos que nos ayuden a entender cómo a través de estos podemos hacer frente a las problemáticas de la actualidad del sector agrícola en Colombia.\n",
    "\n",
    "---\n",
    "\n",
    "\n",
    "En este notebok se llevan a cabo los análisis exploratorio de datos de las bases de datos:\n",
    "\n",
    "1. `Exportaciones_agr_colas_no_tradicionales_y_tradicionales_20241102.csv`: De la base de datos brindada por el concurso\n",
    "2. `_ndice_de_precios_de_insumos_agr_colas_20241104.csv`: De la base de datos brindada por el concurso\n",
    "\n",
    "Las siguientes bases de datos fueron creadas a partir de la información de exportaciones e importaciones proporcionada por el [Observatorio de Desarrollo Económico](https://observatorio.desarrolloeconomico.gov.co/) para los años 2018-2024 (hasta lo registrado en el presente año). Se construyeron uniendo los datos de exportaciones e importaciones de cada uno de los años dentro de este rango de tiempo. Se generó una única base de datos para exportaciones y otra para importaciones, consolidando toda la información descargada para optimizar el trabajo y evitar retrasos computacionales por la importación de los datos. Estas bases de datos son:\n",
    "\n",
    "4. `exportations_2018_2024_complete.csv`: Base de datos de exportaciones extraída del Observatorio Económico Nacional\n",
    "5. `importaciones_2018_2024_complete.csv`: Base de datos de importaciones del Observatorio Económico Nacional\n"
   ]
  },
  {
   "cell_type": "markdown",
   "id": "64c55fe0-df69-4f09-894a-e4ba43165247",
   "metadata": {},
   "source": [
    "----\n",
    "\n",
    "\n",
    "Importamos las librerías que usaremos en todo el código, esto con el fin de seguir buenas prácticas de programación."
   ]
  },
  {
   "cell_type": "code",
   "execution_count": 1,
   "id": "dc30baa8-f9f6-4e74-85e8-f9b39974ea08",
   "metadata": {},
   "outputs": [],
   "source": [
    "import pandas as pd\n",
    "import numpy as np\n",
    "import matplotlib.pyplot as plt\n",
    "import seaborn as sns\n",
    "from sklearn.preprocessing import LabelEncoder\n",
    "from sklearn.preprocessing import MinMaxScaler\n",
    "import plotly.express as px\n",
    "import plotly.graph_objects as go\n",
    "import plotly.subplots as sp\n",
    "from sklearn.preprocessing import StandardScaler, OneHotEncoder\n",
    "import plotly.io as pio\n",
    "pio.renderers.default = \"plotly_mimetype\""
   ]
  },
  {
   "cell_type": "code",
   "execution_count": 2,
   "id": "bcbf6208-8efe-446f-a86e-fc5210761ef3",
   "metadata": {},
   "outputs": [],
   "source": [
    "# Normzalizamos los nombres de las columnas y la información en ellas\n",
    "\n",
    "def Normalize_Columns(df):\n",
    "    df.columns=df.columns.str.strip().str.lower().str.replace(\" \", \"_\")\n",
    "    string_type_cols = df.dtypes[df.dtypes == \"object\"].index.tolist()\n",
    "    for col in string_type_cols:\n",
    "      df[col] = df[col].str.strip().str.lower().str.replace(\" \", \"_\")\n",
    "    return df"
   ]
  },
  {
   "cell_type": "markdown",
   "id": "40f6543a-c7f8-41a4-af64-bbbe70b19ce9",
   "metadata": {},
   "source": [
    "## EDA para base de datos #1: Exportaciones agricolas tradicionales y no tradicionales\n",
    "\n"
   ]
  },
  {
   "cell_type": "code",
   "execution_count": 3,
   "id": "f5f143c2-36fd-47c1-a817-7ce165d6b47c",
   "metadata": {},
   "outputs": [
    {
     "ename": "FileNotFoundError",
     "evalue": "[Errno 2] No such file or directory: 'Exportaciones_agr_colas_no_tradicionales_y_tradicionales_20241102.csv'",
     "output_type": "error",
     "traceback": [
      "\u001b[0;31m---------------------------------------------------------------------------\u001b[0m",
      "\u001b[0;31mFileNotFoundError\u001b[0m                         Traceback (most recent call last)",
      "Cell \u001b[0;32mIn[3], line 2\u001b[0m\n\u001b[1;32m      1\u001b[0m \u001b[38;5;66;03m# base de datos brindada por el concurso\u001b[39;00m\n\u001b[0;32m----> 2\u001b[0m data \u001b[38;5;241m=\u001b[39m \u001b[43mpd\u001b[49m\u001b[38;5;241;43m.\u001b[39;49m\u001b[43mread_csv\u001b[49m\u001b[43m(\u001b[49m\u001b[38;5;124;43m\"\u001b[39;49m\u001b[38;5;124;43mExportaciones_agr_colas_no_tradicionales_y_tradicionales_20241102.csv\u001b[39;49m\u001b[38;5;124;43m\"\u001b[39;49m\u001b[43m)\u001b[49m\n\u001b[1;32m      3\u001b[0m Normalize_Columns(data)\n\u001b[1;32m      4\u001b[0m data\u001b[38;5;241m.\u001b[39mhead()\n",
      "File \u001b[0;32m~/anaconda3/envs/gitdocs/lib/python3.9/site-packages/pandas/io/parsers/readers.py:948\u001b[0m, in \u001b[0;36mread_csv\u001b[0;34m(filepath_or_buffer, sep, delimiter, header, names, index_col, usecols, dtype, engine, converters, true_values, false_values, skipinitialspace, skiprows, skipfooter, nrows, na_values, keep_default_na, na_filter, verbose, skip_blank_lines, parse_dates, infer_datetime_format, keep_date_col, date_parser, date_format, dayfirst, cache_dates, iterator, chunksize, compression, thousands, decimal, lineterminator, quotechar, quoting, doublequote, escapechar, comment, encoding, encoding_errors, dialect, on_bad_lines, delim_whitespace, low_memory, memory_map, float_precision, storage_options, dtype_backend)\u001b[0m\n\u001b[1;32m    935\u001b[0m kwds_defaults \u001b[38;5;241m=\u001b[39m _refine_defaults_read(\n\u001b[1;32m    936\u001b[0m     dialect,\n\u001b[1;32m    937\u001b[0m     delimiter,\n\u001b[0;32m   (...)\u001b[0m\n\u001b[1;32m    944\u001b[0m     dtype_backend\u001b[38;5;241m=\u001b[39mdtype_backend,\n\u001b[1;32m    945\u001b[0m )\n\u001b[1;32m    946\u001b[0m kwds\u001b[38;5;241m.\u001b[39mupdate(kwds_defaults)\n\u001b[0;32m--> 948\u001b[0m \u001b[38;5;28;01mreturn\u001b[39;00m \u001b[43m_read\u001b[49m\u001b[43m(\u001b[49m\u001b[43mfilepath_or_buffer\u001b[49m\u001b[43m,\u001b[49m\u001b[43m \u001b[49m\u001b[43mkwds\u001b[49m\u001b[43m)\u001b[49m\n",
      "File \u001b[0;32m~/anaconda3/envs/gitdocs/lib/python3.9/site-packages/pandas/io/parsers/readers.py:611\u001b[0m, in \u001b[0;36m_read\u001b[0;34m(filepath_or_buffer, kwds)\u001b[0m\n\u001b[1;32m    608\u001b[0m _validate_names(kwds\u001b[38;5;241m.\u001b[39mget(\u001b[38;5;124m\"\u001b[39m\u001b[38;5;124mnames\u001b[39m\u001b[38;5;124m\"\u001b[39m, \u001b[38;5;28;01mNone\u001b[39;00m))\n\u001b[1;32m    610\u001b[0m \u001b[38;5;66;03m# Create the parser.\u001b[39;00m\n\u001b[0;32m--> 611\u001b[0m parser \u001b[38;5;241m=\u001b[39m \u001b[43mTextFileReader\u001b[49m\u001b[43m(\u001b[49m\u001b[43mfilepath_or_buffer\u001b[49m\u001b[43m,\u001b[49m\u001b[43m \u001b[49m\u001b[38;5;241;43m*\u001b[39;49m\u001b[38;5;241;43m*\u001b[39;49m\u001b[43mkwds\u001b[49m\u001b[43m)\u001b[49m\n\u001b[1;32m    613\u001b[0m \u001b[38;5;28;01mif\u001b[39;00m chunksize \u001b[38;5;129;01mor\u001b[39;00m iterator:\n\u001b[1;32m    614\u001b[0m     \u001b[38;5;28;01mreturn\u001b[39;00m parser\n",
      "File \u001b[0;32m~/anaconda3/envs/gitdocs/lib/python3.9/site-packages/pandas/io/parsers/readers.py:1448\u001b[0m, in \u001b[0;36mTextFileReader.__init__\u001b[0;34m(self, f, engine, **kwds)\u001b[0m\n\u001b[1;32m   1445\u001b[0m     \u001b[38;5;28mself\u001b[39m\u001b[38;5;241m.\u001b[39moptions[\u001b[38;5;124m\"\u001b[39m\u001b[38;5;124mhas_index_names\u001b[39m\u001b[38;5;124m\"\u001b[39m] \u001b[38;5;241m=\u001b[39m kwds[\u001b[38;5;124m\"\u001b[39m\u001b[38;5;124mhas_index_names\u001b[39m\u001b[38;5;124m\"\u001b[39m]\n\u001b[1;32m   1447\u001b[0m \u001b[38;5;28mself\u001b[39m\u001b[38;5;241m.\u001b[39mhandles: IOHandles \u001b[38;5;241m|\u001b[39m \u001b[38;5;28;01mNone\u001b[39;00m \u001b[38;5;241m=\u001b[39m \u001b[38;5;28;01mNone\u001b[39;00m\n\u001b[0;32m-> 1448\u001b[0m \u001b[38;5;28mself\u001b[39m\u001b[38;5;241m.\u001b[39m_engine \u001b[38;5;241m=\u001b[39m \u001b[38;5;28;43mself\u001b[39;49m\u001b[38;5;241;43m.\u001b[39;49m\u001b[43m_make_engine\u001b[49m\u001b[43m(\u001b[49m\u001b[43mf\u001b[49m\u001b[43m,\u001b[49m\u001b[43m \u001b[49m\u001b[38;5;28;43mself\u001b[39;49m\u001b[38;5;241;43m.\u001b[39;49m\u001b[43mengine\u001b[49m\u001b[43m)\u001b[49m\n",
      "File \u001b[0;32m~/anaconda3/envs/gitdocs/lib/python3.9/site-packages/pandas/io/parsers/readers.py:1705\u001b[0m, in \u001b[0;36mTextFileReader._make_engine\u001b[0;34m(self, f, engine)\u001b[0m\n\u001b[1;32m   1703\u001b[0m     \u001b[38;5;28;01mif\u001b[39;00m \u001b[38;5;124m\"\u001b[39m\u001b[38;5;124mb\u001b[39m\u001b[38;5;124m\"\u001b[39m \u001b[38;5;129;01mnot\u001b[39;00m \u001b[38;5;129;01min\u001b[39;00m mode:\n\u001b[1;32m   1704\u001b[0m         mode \u001b[38;5;241m+\u001b[39m\u001b[38;5;241m=\u001b[39m \u001b[38;5;124m\"\u001b[39m\u001b[38;5;124mb\u001b[39m\u001b[38;5;124m\"\u001b[39m\n\u001b[0;32m-> 1705\u001b[0m \u001b[38;5;28mself\u001b[39m\u001b[38;5;241m.\u001b[39mhandles \u001b[38;5;241m=\u001b[39m \u001b[43mget_handle\u001b[49m\u001b[43m(\u001b[49m\n\u001b[1;32m   1706\u001b[0m \u001b[43m    \u001b[49m\u001b[43mf\u001b[49m\u001b[43m,\u001b[49m\n\u001b[1;32m   1707\u001b[0m \u001b[43m    \u001b[49m\u001b[43mmode\u001b[49m\u001b[43m,\u001b[49m\n\u001b[1;32m   1708\u001b[0m \u001b[43m    \u001b[49m\u001b[43mencoding\u001b[49m\u001b[38;5;241;43m=\u001b[39;49m\u001b[38;5;28;43mself\u001b[39;49m\u001b[38;5;241;43m.\u001b[39;49m\u001b[43moptions\u001b[49m\u001b[38;5;241;43m.\u001b[39;49m\u001b[43mget\u001b[49m\u001b[43m(\u001b[49m\u001b[38;5;124;43m\"\u001b[39;49m\u001b[38;5;124;43mencoding\u001b[39;49m\u001b[38;5;124;43m\"\u001b[39;49m\u001b[43m,\u001b[49m\u001b[43m \u001b[49m\u001b[38;5;28;43;01mNone\u001b[39;49;00m\u001b[43m)\u001b[49m\u001b[43m,\u001b[49m\n\u001b[1;32m   1709\u001b[0m \u001b[43m    \u001b[49m\u001b[43mcompression\u001b[49m\u001b[38;5;241;43m=\u001b[39;49m\u001b[38;5;28;43mself\u001b[39;49m\u001b[38;5;241;43m.\u001b[39;49m\u001b[43moptions\u001b[49m\u001b[38;5;241;43m.\u001b[39;49m\u001b[43mget\u001b[49m\u001b[43m(\u001b[49m\u001b[38;5;124;43m\"\u001b[39;49m\u001b[38;5;124;43mcompression\u001b[39;49m\u001b[38;5;124;43m\"\u001b[39;49m\u001b[43m,\u001b[49m\u001b[43m \u001b[49m\u001b[38;5;28;43;01mNone\u001b[39;49;00m\u001b[43m)\u001b[49m\u001b[43m,\u001b[49m\n\u001b[1;32m   1710\u001b[0m \u001b[43m    \u001b[49m\u001b[43mmemory_map\u001b[49m\u001b[38;5;241;43m=\u001b[39;49m\u001b[38;5;28;43mself\u001b[39;49m\u001b[38;5;241;43m.\u001b[39;49m\u001b[43moptions\u001b[49m\u001b[38;5;241;43m.\u001b[39;49m\u001b[43mget\u001b[49m\u001b[43m(\u001b[49m\u001b[38;5;124;43m\"\u001b[39;49m\u001b[38;5;124;43mmemory_map\u001b[39;49m\u001b[38;5;124;43m\"\u001b[39;49m\u001b[43m,\u001b[49m\u001b[43m \u001b[49m\u001b[38;5;28;43;01mFalse\u001b[39;49;00m\u001b[43m)\u001b[49m\u001b[43m,\u001b[49m\n\u001b[1;32m   1711\u001b[0m \u001b[43m    \u001b[49m\u001b[43mis_text\u001b[49m\u001b[38;5;241;43m=\u001b[39;49m\u001b[43mis_text\u001b[49m\u001b[43m,\u001b[49m\n\u001b[1;32m   1712\u001b[0m \u001b[43m    \u001b[49m\u001b[43merrors\u001b[49m\u001b[38;5;241;43m=\u001b[39;49m\u001b[38;5;28;43mself\u001b[39;49m\u001b[38;5;241;43m.\u001b[39;49m\u001b[43moptions\u001b[49m\u001b[38;5;241;43m.\u001b[39;49m\u001b[43mget\u001b[49m\u001b[43m(\u001b[49m\u001b[38;5;124;43m\"\u001b[39;49m\u001b[38;5;124;43mencoding_errors\u001b[39;49m\u001b[38;5;124;43m\"\u001b[39;49m\u001b[43m,\u001b[49m\u001b[43m \u001b[49m\u001b[38;5;124;43m\"\u001b[39;49m\u001b[38;5;124;43mstrict\u001b[39;49m\u001b[38;5;124;43m\"\u001b[39;49m\u001b[43m)\u001b[49m\u001b[43m,\u001b[49m\n\u001b[1;32m   1713\u001b[0m \u001b[43m    \u001b[49m\u001b[43mstorage_options\u001b[49m\u001b[38;5;241;43m=\u001b[39;49m\u001b[38;5;28;43mself\u001b[39;49m\u001b[38;5;241;43m.\u001b[39;49m\u001b[43moptions\u001b[49m\u001b[38;5;241;43m.\u001b[39;49m\u001b[43mget\u001b[49m\u001b[43m(\u001b[49m\u001b[38;5;124;43m\"\u001b[39;49m\u001b[38;5;124;43mstorage_options\u001b[39;49m\u001b[38;5;124;43m\"\u001b[39;49m\u001b[43m,\u001b[49m\u001b[43m \u001b[49m\u001b[38;5;28;43;01mNone\u001b[39;49;00m\u001b[43m)\u001b[49m\u001b[43m,\u001b[49m\n\u001b[1;32m   1714\u001b[0m \u001b[43m\u001b[49m\u001b[43m)\u001b[49m\n\u001b[1;32m   1715\u001b[0m \u001b[38;5;28;01massert\u001b[39;00m \u001b[38;5;28mself\u001b[39m\u001b[38;5;241m.\u001b[39mhandles \u001b[38;5;129;01mis\u001b[39;00m \u001b[38;5;129;01mnot\u001b[39;00m \u001b[38;5;28;01mNone\u001b[39;00m\n\u001b[1;32m   1716\u001b[0m f \u001b[38;5;241m=\u001b[39m \u001b[38;5;28mself\u001b[39m\u001b[38;5;241m.\u001b[39mhandles\u001b[38;5;241m.\u001b[39mhandle\n",
      "File \u001b[0;32m~/anaconda3/envs/gitdocs/lib/python3.9/site-packages/pandas/io/common.py:863\u001b[0m, in \u001b[0;36mget_handle\u001b[0;34m(path_or_buf, mode, encoding, compression, memory_map, is_text, errors, storage_options)\u001b[0m\n\u001b[1;32m    858\u001b[0m \u001b[38;5;28;01melif\u001b[39;00m \u001b[38;5;28misinstance\u001b[39m(handle, \u001b[38;5;28mstr\u001b[39m):\n\u001b[1;32m    859\u001b[0m     \u001b[38;5;66;03m# Check whether the filename is to be opened in binary mode.\u001b[39;00m\n\u001b[1;32m    860\u001b[0m     \u001b[38;5;66;03m# Binary mode does not support 'encoding' and 'newline'.\u001b[39;00m\n\u001b[1;32m    861\u001b[0m     \u001b[38;5;28;01mif\u001b[39;00m ioargs\u001b[38;5;241m.\u001b[39mencoding \u001b[38;5;129;01mand\u001b[39;00m \u001b[38;5;124m\"\u001b[39m\u001b[38;5;124mb\u001b[39m\u001b[38;5;124m\"\u001b[39m \u001b[38;5;129;01mnot\u001b[39;00m \u001b[38;5;129;01min\u001b[39;00m ioargs\u001b[38;5;241m.\u001b[39mmode:\n\u001b[1;32m    862\u001b[0m         \u001b[38;5;66;03m# Encoding\u001b[39;00m\n\u001b[0;32m--> 863\u001b[0m         handle \u001b[38;5;241m=\u001b[39m \u001b[38;5;28;43mopen\u001b[39;49m\u001b[43m(\u001b[49m\n\u001b[1;32m    864\u001b[0m \u001b[43m            \u001b[49m\u001b[43mhandle\u001b[49m\u001b[43m,\u001b[49m\n\u001b[1;32m    865\u001b[0m \u001b[43m            \u001b[49m\u001b[43mioargs\u001b[49m\u001b[38;5;241;43m.\u001b[39;49m\u001b[43mmode\u001b[49m\u001b[43m,\u001b[49m\n\u001b[1;32m    866\u001b[0m \u001b[43m            \u001b[49m\u001b[43mencoding\u001b[49m\u001b[38;5;241;43m=\u001b[39;49m\u001b[43mioargs\u001b[49m\u001b[38;5;241;43m.\u001b[39;49m\u001b[43mencoding\u001b[49m\u001b[43m,\u001b[49m\n\u001b[1;32m    867\u001b[0m \u001b[43m            \u001b[49m\u001b[43merrors\u001b[49m\u001b[38;5;241;43m=\u001b[39;49m\u001b[43merrors\u001b[49m\u001b[43m,\u001b[49m\n\u001b[1;32m    868\u001b[0m \u001b[43m            \u001b[49m\u001b[43mnewline\u001b[49m\u001b[38;5;241;43m=\u001b[39;49m\u001b[38;5;124;43m\"\u001b[39;49m\u001b[38;5;124;43m\"\u001b[39;49m\u001b[43m,\u001b[49m\n\u001b[1;32m    869\u001b[0m \u001b[43m        \u001b[49m\u001b[43m)\u001b[49m\n\u001b[1;32m    870\u001b[0m     \u001b[38;5;28;01melse\u001b[39;00m:\n\u001b[1;32m    871\u001b[0m         \u001b[38;5;66;03m# Binary mode\u001b[39;00m\n\u001b[1;32m    872\u001b[0m         handle \u001b[38;5;241m=\u001b[39m \u001b[38;5;28mopen\u001b[39m(handle, ioargs\u001b[38;5;241m.\u001b[39mmode)\n",
      "\u001b[0;31mFileNotFoundError\u001b[0m: [Errno 2] No such file or directory: 'Exportaciones_agr_colas_no_tradicionales_y_tradicionales_20241102.csv'"
     ]
    }
   ],
   "source": [
    "# base de datos brindada por el concurso\n",
    "data = pd.read_csv(\"Exportaciones_agr_colas_no_tradicionales_y_tradicionales_20241102.csv\")\n",
    "Normalize_Columns(data)\n",
    "data.head()"
   ]
  },
  {
   "cell_type": "code",
   "execution_count": null,
   "id": "c89588a4-dd8a-4224-8773-19ee4b873fc8",
   "metadata": {},
   "outputs": [],
   "source": [
    "# Exportaciones por año\n",
    "exportaciones_por_año = data.groupby('año').size().reset_index(name='exportaciones')\n",
    "fig = px.bar(exportaciones_por_año, x='año', y='exportaciones', title='Cantidad de Exportaciones por Año')\n",
    "fig.update_layout(xaxis_title='Año', yaxis_title='Cantidad de Exportaciones')\n",
    "fig.show()"
   ]
  },
  {
   "cell_type": "markdown",
   "id": "89c51e42-7f27-4c72-bdce-6c0d4548f145",
   "metadata": {},
   "source": [
    "En esta gráfica podemos observar un crecimiento lineal con respecto a la cantidad de exportaciones de productos agrícolas que se han realizado desde los años 2019 a 2023"
   ]
  },
  {
   "cell_type": "code",
   "execution_count": null,
   "id": "2bf50b1f-16ad-4080-bc57-41872cc81bbf",
   "metadata": {},
   "outputs": [],
   "source": [
    "# departamentos que mas exportan\n",
    "top_departamentos = data['departamento'].value_counts().reset_index()\n",
    "top_departamentos.columns = ['departamento', 'frecuencia']\n",
    "\n",
    "fig = px.bar(\n",
    "    top_departamentos,\n",
    "    x='departamento',\n",
    "    y='frecuencia',\n",
    "    title='Departamentos que Más Exportan',\n",
    "    text='frecuencia'\n",
    ")\n",
    "\n",
    "fig.update_layout(showlegend=False, height=600)\n",
    "fig.show()\n"
   ]
  },
  {
   "cell_type": "code",
   "execution_count": null,
   "id": "363fc743-b62b-4ece-aaa8-d7ebf6fe0163",
   "metadata": {},
   "outputs": [],
   "source": [
    "top_10_departamentos = data['departamento'].value_counts().nlargest(10).index\n",
    "\n",
    "filtered_data = data[data['departamento'].isin(top_10_departamentos)]\n",
    "top_categorias_por_departamento = (\n",
    "    filtered_data.groupby(['departamento', 'descripcion_partida10_dig'])\n",
    "    .size()\n",
    "    .reset_index(name='frecuencia')\n",
    "    .sort_values(['departamento', 'frecuencia'], ascending=[True, False])\n",
    "    .groupby('departamento')\n",
    "    .head(5)\n",
    ")\n",
    "\n",
    "fig = px.bar(\n",
    "    top_categorias_por_departamento,\n",
    "    x='departamento',\n",
    "    y='frecuencia',\n",
    "    color='descripcion_partida10_dig',\n",
    "    title='Top 5 Categorías de Exportación para los 10 Departamentos que Más Exportan',\n",
    "    labels={'descripcion_partida10_dig': 'Categoría de Exportación', 'frecuencia': 'Cantidad de Exportaciones'}\n",
    ")\n",
    "\n",
    "fig.update_layout(showlegend=False, height=800)  \n",
    "fig.update_traces(hovertemplate='Departamento: %{x}<br>Categoría: %{marker.color}<br>Frecuencia: %{y}')\n",
    "fig.show()"
   ]
  },
  {
   "cell_type": "code",
   "execution_count": null,
   "id": "a9681248-dbf7-4b0c-91a5-074a46c7814a",
   "metadata": {},
   "outputs": [],
   "source": [
    "# TOP 10 Productos por valor de Exportacion\n",
    "\n",
    "top_10_valores_exportacion = data.groupby('descripcion_partida10_dig')['exportaciones_en_valor_(miles_usd_fob)'].sum().nlargest(10).reset_index()\n",
    "\n",
    "fig = px.pie(\n",
    "    top_10_valores_exportacion,\n",
    "    values='exportaciones_en_valor_(miles_usd_fob)',\n",
    "    names='descripcion_partida10_dig',\n",
    "    title='Top 10 Productos por Valor de Exportación (Miles USD FOB)',\n",
    "    hole=0.3\n",
    ")\n",
    "\n",
    "fig.update_traces(hovertemplate=\"<b>%{label}</b><br>Valor de Exportación: %{value} Miles USD FOB\")\n",
    "fig.update_layout(showlegend=False)\n",
    "fig.show()"
   ]
  },
  {
   "cell_type": "code",
   "execution_count": null,
   "id": "a0b9f76c-a3ac-4d4a-b052-ea9b57eab504",
   "metadata": {},
   "outputs": [],
   "source": [
    "# Top 10 Productos más exportados\n",
    "\n",
    "top_productos = data['descripcion_partida10_dig'].value_counts().nlargest(10).reset_index()\n",
    "top_productos.columns = ['descripcion_partida10_dig', 'frecuencia']\n",
    "total_exportaciones = top_productos['frecuencia'].sum()\n",
    "top_productos['porcentaje'] = (top_productos['frecuencia'] / total_exportaciones) * 100\n",
    "\n",
    "fig = px.bar(\n",
    "    top_productos, \n",
    "    x='descripcion_partida10_dig', \n",
    "    y='frecuencia', \n",
    "    title='Top 10 Productos Más Exportados',\n",
    "    labels={'descripcion_partida10_dig': 'Producto', 'frecuencia': 'Frecuencia de Exportación'},\n",
    "    height=800,\n",
    "    hover_data={'porcentaje': ':.2f'}  # Mostrar el porcentaje con 2 decimales\n",
    ")\n",
    "\n",
    "fig.update_layout(showlegend=False)\n",
    "fig.update_traces(\n",
    "    hovertemplate=\"<b>%{x}</b><br>Frecuencia: %{y}<br>Porcentaje: %{customdata[0]:.2f}%\"\n",
    ")\n",
    "\n",
    "fig.show()"
   ]
  },
  {
   "cell_type": "code",
   "execution_count": null,
   "id": "862291ab-3681-4e09-b1c1-0914cc68cb94",
   "metadata": {},
   "outputs": [],
   "source": [
    "data['exportaciones_en_valor_(miles_usd_fob)'] = np.log1p(data['exportaciones_en_valor_(miles_usd_fob)'])\n",
    "data[\"exportaciones_en_volumen_(toneladas)\"] = np.log1p(data[\"exportaciones_en_volumen_(toneladas)\"])\n",
    "data[\"tradición_productos\"] = data[\"tradición_productos\"].map({\"no_tradicional\": 0, \"tradicional\": 1})"
   ]
  },
  {
   "cell_type": "code",
   "execution_count": null,
   "id": "e460635e-142e-47f6-b775-a5046180524f",
   "metadata": {},
   "outputs": [],
   "source": [
    "sns.histplot(data.tradición_productos)"
   ]
  },
  {
   "cell_type": "code",
   "execution_count": null,
   "id": "78f97010-20ef-4ef8-8b58-f13321db95fd",
   "metadata": {},
   "outputs": [],
   "source": [
    "numeric_data = data.select_dtypes(include=['number'])\n",
    "correlation_matrix = numeric_data.corr(method='pearson')\n",
    "plt.figure(figsize=(8, 6))\n",
    "\n",
    "sns.heatmap(correlation_matrix, annot=True, fmt=\".2f\", cmap='coolwarm', square=True, cbar_kws={\"shrink\": .8}, linewidths=0.5)\n",
    "plt.title('Mapa de Calor de la Correlación de Pearson entre Variables Numéricas')\n",
    "plt.show()"
   ]
  },
  {
   "cell_type": "code",
   "execution_count": null,
   "id": "45305e8e-e0ee-40d4-a024-49e0722c1822",
   "metadata": {},
   "outputs": [],
   "source": [
    "sns.scatterplot(data=data, x=\"exportaciones_en_volumen_(toneladas)\", y=\"exportaciones_en_valor_(miles_usd_fob)\")"
   ]
  },
  {
   "cell_type": "markdown",
   "id": "3eafa85a-1fc5-4761-a558-b4138f877ea7",
   "metadata": {},
   "source": [
    "## **EDA bases de datos #2: Índice de precios de insumos agrícolas**"
   ]
  },
  {
   "cell_type": "code",
   "execution_count": null,
   "id": "83677b9e-9b0c-455c-9273-e0190ba81e3f",
   "metadata": {},
   "outputs": [],
   "source": [
    "# base de datos brindada por el concurso\n",
    "data2 = pd.read_csv(\"_ndice_de_precios_de_insumos_agr_colas_20241104.csv\")\n",
    "data2.head()"
   ]
  },
  {
   "cell_type": "code",
   "execution_count": null,
   "id": "e1f7cb89-5acf-4380-adea-2975d62b6444",
   "metadata": {},
   "outputs": [],
   "source": [
    "data2.columns=data2.columns.str.strip().str.lower().str.replace(\" \", \"_\")\n",
    "string_type_cols = data2.dtypes[data2.dtypes == \"object\"].index.tolist()\n",
    "for col in string_type_cols:\n",
    "  data2[col] = data2[col].str.strip().str.lower().str.replace(\" \", \"_\")"
   ]
  },
  {
   "cell_type": "code",
   "execution_count": null,
   "id": "327a5df8-5259-4796-943e-d9df081a36fc",
   "metadata": {
    "scrolled": true
   },
   "outputs": [],
   "source": [
    "data2_numeric = data2.select_dtypes(include=[np.number])\n",
    "correlation_matrix = data2_numeric.corr()\n",
    "\n",
    "correlation_matrix = correlation_matrix.fillna(0)\n",
    "plt.figure(figsize=(10, 8))\n",
    "sns.heatmap(correlation_matrix, cmap='coolwarm', linewidths=0.5)\n",
    "plt.title(\"Matriz de Correlación\")\n",
    "plt.show()"
   ]
  },
  {
   "cell_type": "code",
   "execution_count": null,
   "id": "e1facd68-1709-4021-895e-a3b54b048d9e",
   "metadata": {},
   "outputs": [],
   "source": [
    "# Descartamos las columnas especificas de fertilizantes y dejamos solo las totales por facilidad de entendimiento\n",
    "# dejamos solo las columnas de los inidices totales de cada tipo de insumo\n",
    "\n",
    "data2.drop(columns=['urea_46%', 'urea_sulfato',\n",
    "       'dap_18-46', 'kcl_0-0-60', 'sam', '15-15-15', '25-4-24', '17-6-18-2',\n",
    "       '18-18-18', '31-8-8', '12-24-12', '13-26-6', '15-4-23', '10-20-30',\n",
    "       '28-4-0-6', 'glifosato', 'paraquat', 'propanil', '2,4-d_+_picloram',\n",
    "       '2,4-d', 'aminopiralid_+_2,4-d', 'diuron', 'glufosinato_de_amonio',\n",
    "       'picloram', 'oxadiazon', 'metsulfuron_metil', 'pendimetalin',\n",
    "       'clorotalonil', 'difenoconazol', 'mancozeb', 'mancozeb_+_cimoxanil',\n",
    "       'azoxistrobin_+_difenoconazol', 'dimetomorf',\n",
    "       'tebuconazol_+_trifloxistrobin', 'propineb_+_fluopicolide',\n",
    "       'mancozeb_+_metalaxil-m', 'clorpirifos', 'fipronil', 'metomil',\n",
    "       'tiametoxam_+_lambdacihalotrina', 'abamectina', 'imidacloprid',\n",
    "       'profenofos_+_cipermetrina', 'cipermetrina', 'profenofos',\n",
    "       'total_coadyuvantes'], inplace=True)\n",
    "\n",
    "data2.head()"
   ]
  },
  {
   "cell_type": "code",
   "execution_count": null,
   "id": "e21c42d6-0546-41f8-9e3d-2e884d8bb3a3",
   "metadata": {},
   "outputs": [],
   "source": [
    "fig = sp.make_subplots(\n",
    "    rows=4, cols=3,\n",
    "    subplot_titles=[\n",
    "        \"Total Fertilizantes\", \"Total Plaguicidas\", \"Total Otros\",\n",
    "        \"Total Compuestos\", \"Total Herbicidas\", \"Total Insecticidas\",\n",
    "        \"Total Reguladores\", \"Total Fungicidas\", \"Total Molusquicidas\", \"Indice Total\"\n",
    "    ]\n",
    ")\n",
    "\n",
    "variables = [\n",
    "    (\"total_fertilizantes\", \"Total Fertilizantes\"),\n",
    "    (\"total_plaguicidas\", \"Total Plaguicidas\"),\n",
    "    (\"total_otros\", \"Total Otros\"),\n",
    "    (\"total_compuestos\", \"Total Compuestos\"),\n",
    "    (\"total_herbicidas\", \"Total Herbicidas\"),\n",
    "    (\"total_insecticidas\", \"Total Insecticidas\"),\n",
    "    (\"total_reguladores\", \"Total Reguladores\"),\n",
    "    (\"total_fungicidas\", \"Total Fungicidas\"),\n",
    "    (\"total_molusquicidas\", \"Total Molusquicidas\"),\n",
    "    (\"indice_total\", \"Indice Total\")\n",
    "]\n",
    "\n",
    "for idx, (column, title) in enumerate(variables):\n",
    "    row = idx // 3 + 1\n",
    "    col = idx % 3 + 1\n",
    "    fig.add_trace(go.Histogram(x=data2[column], name=title), row=row, col=col)\n",
    "\n",
    "fig.update_layout(\n",
    "    height=1000, width=1200,\n",
    "    title_text=\"Distribución de Uso de Productos Agrícolas\",\n",
    "    showlegend=False\n",
    ")\n",
    "fig.update_xaxes(title_text=\"Cantidad\")\n",
    "fig.update_yaxes(title_text=\"Frecuencia\")\n",
    "fig.show()"
   ]
  },
  {
   "cell_type": "code",
   "execution_count": null,
   "id": "68fc4bb0-dbf8-408d-9b71-d4c473616eb7",
   "metadata": {},
   "outputs": [],
   "source": [
    "# Ahora observamos el comportamiento de los índices de precios pero por año\n",
    "\n",
    "data2['fecha'] = pd.to_datetime(data2['fecha'], format=\"%m/%Y\")\n",
    "data2['año'] = data2['fecha'].dt.year\n",
    "\n",
    "variables = [\n",
    "    (\"total_fertilizantes\", \"Total Fertilizantes\"),\n",
    "    (\"total_plaguicidas\", \"Total Plaguicidas\"),\n",
    "    (\"total_otros\", \"Total Otros\"),\n",
    "    (\"total_compuestos\", \"Total Compuestos\"),\n",
    "    (\"total_herbicidas\", \"Total Herbicidas\"),\n",
    "    (\"total_insecticidas\", \"Total Insecticidas\"),\n",
    "    (\"total_reguladores\", \"Total Reguladores\"),\n",
    "    (\"total_fungicidas\", \"Total Fungicidas\"),\n",
    "    (\"total_molusquicidas\", \"Total Molusquicidas\"),\n",
    "    (\"indice_total\", \"Indice Total\")\n",
    "]\n",
    "\n",
    "fig = sp.make_subplots(\n",
    "    rows=4, cols=3,\n",
    "    subplot_titles=[title for _, title in variables]\n",
    ")\n",
    "\n",
    "for idx, (column, title) in enumerate(variables):\n",
    "    row = idx // 3 + 1\n",
    "    col = idx % 3 + 1\n",
    "    indice_por_año = data2.groupby('año')[column].mean().reset_index()\n",
    "    fig.add_trace(go.Scatter(x=indice_por_año['año'], y=indice_por_año[column], mode='lines', name=title), row=row, col=col)\n",
    "\n",
    "fig.update_layout(\n",
    "    height=1000, width=1200,\n",
    "    title_text=\"Cambio de Índices de Uso de Productos Agrícolas a lo Largo de los Años\",\n",
    "    showlegend=False\n",
    ")\n",
    "fig.update_xaxes(title_text=\"Año\")\n",
    "fig.update_yaxes(title_text=\"Índice Promedio\")"
   ]
  },
  {
   "cell_type": "code",
   "execution_count": null,
   "id": "6806217d-82a8-4f6c-b96e-821ff9b8d8fc",
   "metadata": {},
   "outputs": [],
   "source": [
    "# Realizamos una matriz de correlación de los indices de precio totales de cada uno de los tipos de insumos agrícolas\n",
    "\n",
    "correlation_matrix = data2.corr()\n",
    "plt.figure(figsize=(12, 8))\n",
    "sns.heatmap(correlation_matrix, annot=True, cmap='coolwarm', fmt='.2f', cbar=True, square=True, linewidths=0.5)\n",
    "plt.title('Matriz de Correlación de Variables Numéricas')\n",
    "plt.show()"
   ]
  },
  {
   "cell_type": "markdown",
   "id": "a5b6f02e-0d85-4b41-8363-d96ecfe5ed99",
   "metadata": {
    "collapsed": true,
    "jupyter": {
     "outputs_hidden": true
    }
   },
   "source": [
    "Esta matriz de correlación con valores tan cercanos a 1 nos indica que existen muchas relaciones directamente proporcionales entre los índices de precios de los insumos del sector agrícola. Por ejemplo, los precios de los fertilizantes también muestran una alta correlación con los precios de los plaguicidas, herbicidas, fungicidas e insecticidas. Esto indica que los precios de estos insumos tienden a moverse en la misma dirección, posiblemente debido a factores comunes como la inflación, los costos de transporte o las regulaciones del mercado. De manera similar, los precios de los fertilizantes compuestos, simples, nitrogenados, fosfatados y potásicos están muy correlacionados entre sí. Esto sugiere que los factores que influyen en el precio de un tipo de fertilizante, como los costos de producción, la demanda global o las políticas gubernamentales, suelen afectar de manera similar a los otros tipos."
   ]
  },
  {
   "cell_type": "markdown",
   "id": "a4f8db97-4bf9-4d34-a5db-a66845fcfed0",
   "metadata": {},
   "source": [
    "## **EDA para base de datos #3: Exportaciones: Valor de las exportaciones por país de destino, producto, aduana de salida, actividad económica y partida arancelaria en valor FOB $US.**\n"
   ]
  },
  {
   "cell_type": "code",
   "execution_count": null,
   "id": "ee57b567-4a03-4608-99ac-a071a4d64d80",
   "metadata": {
    "scrolled": true
   },
   "outputs": [],
   "source": [
    "data_exporta = pd.read_csv(\"exportations_2018_2024_complete.csv\")\n",
    "data_exporta.head()"
   ]
  },
  {
   "cell_type": "code",
   "execution_count": null,
   "id": "85085d50-d36a-421e-9128-d36f129f05b8",
   "metadata": {},
   "outputs": [],
   "source": [
    "data_exporta.shape"
   ]
  },
  {
   "cell_type": "markdown",
   "id": "31a2c7ac-f1f9-4a4d-a293-0ad92312a940",
   "metadata": {},
   "source": [
    "Esta base de datos de exportaciones, al igual que la de importaciones, contiene toda la información de lo exportado e importado correspondiente a Colombia para los diferentes años desde 2018 hasta agosto 2024. Esto significa que en la base de datos **no se encuentra únicamente información sobre las exportaciones agrícolas sino sobre todas en general**. Para poder extraer las que son agrícolas, usamos como base y/o guía las categorías de la columna `descripcion_partida10_dig` de la base de datos *Exportaciones agricolas tradicionales y no tradicionales*, este es el principal uso que se le dio a esta base. \n",
    "\n",
    "Así pues, observando de forma \"manual\" las palabras y/o las categorías que aparecían en `descripcion_partida10_dig` y se encontraban en la base de datos de exportaciones, se creó una lista (`filtros`) con estas palabras que funcionó como filtro (valga la redundancia) para extraer de las base de datos de exportaciones e importaciones la información sobre el sector agricultor. Estas categorías fueron:"
   ]
  },
  {
   "cell_type": "code",
   "execution_count": null,
   "id": "b80b82de-04b4-4a0f-b52c-f4bcb0b47f2a",
   "metadata": {},
   "outputs": [],
   "source": [
    "filtros = [\"Abonos\", \"Aceites esenciales, perfumería, cosméticos\", \"Algodón\", \"Animales vivos\", \"Azúcares y artículos confitería\",\n",
    "           \"Bebidas, líquidos alcohólicos y vinagre\", \"Cacao y sus preparaciones\", \"Café, té, yerba mate y especias\", \"Carnes y despojos comestibles\",\n",
    "           \"Cereales\", \"Demás fibras vegetales, hilados de papel\", \"Demás productos de origen animal\", \"Frutos comestibles, cortezas de agrios o melones\",\n",
    "           \"Gomas, resinas y demás jugos y extractos vegetales\", \"Grasas y aceites animales o vegetales\", \"Leche y productos lácteos, huevos, miel\",\n",
    "           \"Legumbres y hortalizas, plantas, raíces y tubérculos\", \"Madera, carbón vegetal y manufacturas de madera\", \"Manufacturas de cuero, artículos de viaje, bolsos\",\n",
    "           \"Materias trenzables y demás productos vegetales\", \"Pescados y crustáceos, moluscos e invertebrados acuáticos\", \"Pieles y cueros\",\n",
    "           \"Plantas vivas y productos de la floricultura\", \"Preparaciones a base de cereal, harina, leche; pastelería\", \"Preparaciones alimenticias diversas\",\n",
    "           \"Preparaciones de carne, pescado, crustáceos, moluscos\", \"Preparaciones de legumbre u hortalizas, frutos, otras\", \"Productos de molinería, malta, almidón y fécula\",\n",
    "           \"Productos químicos orgánicos\", \"Semillas y frutos oleaginosos, forrajes\"]"
   ]
  },
  {
   "cell_type": "code",
   "execution_count": null,
   "id": "8db274c2-e0f2-48b8-937a-2b3581bfb5c7",
   "metadata": {},
   "outputs": [],
   "source": [
    "filtered_df = data_exporta[data_exporta['nombre_capitulo'].isin(filtros)].reset_index(drop=True)"
   ]
  },
  {
   "cell_type": "code",
   "execution_count": null,
   "id": "5aa21e96-648b-44b6-87a4-8aa1e3c31380",
   "metadata": {},
   "outputs": [],
   "source": [
    "filtered_df.columns=filtered_df.columns.str.strip().str.lower().str.replace(\" \", \"_\")\n",
    "string_type_cols = filtered_df.dtypes[filtered_df.dtypes == \"object\"].index.tolist()\n",
    "for col in string_type_cols:\n",
    "  filtered_df[col] = filtered_df[col].str.strip().str.lower().str.replace(\" \", \"_\")\n",
    "\n",
    "filtered_df.head()"
   ]
  },
  {
   "cell_type": "code",
   "execution_count": null,
   "id": "1ed09b8b-959a-44b7-b84a-e0bc133c663a",
   "metadata": {},
   "outputs": [],
   "source": [
    "# escribimos las exportaciones agriculturas en un archivo csv que usaremos mas adelante\n",
    "filtered_df.to_csv(\"exportaciones_2018_2024_agricultura.csv\") "
   ]
  },
  {
   "cell_type": "code",
   "execution_count": null,
   "id": "3ad8b8d3-01fb-43cc-9b5b-c92fc23f659c",
   "metadata": {},
   "outputs": [],
   "source": [
    "# Proporcion de las 27 categorias de `nombre_capitulo` que exportamos\n",
    "\n",
    "conteo_categorias = filtered_df['nombre_capitulo'].value_counts()\n",
    "fig = px.pie(\n",
    "    names=conteo_categorias.index,\n",
    "    values=conteo_categorias.values,\n",
    "    title=\"Proporción de Categorías en 'nombre_capitulo'\",\n",
    "    hole=0.3  # Hacerlo un gráfico tipo donut\n",
    ")\n",
    "\n",
    "fig.update_layout(showlegend=False)\n",
    "fig.show()"
   ]
  },
  {
   "cell_type": "markdown",
   "id": "a0271e4e-b3c5-4c07-beef-30a9b4b8a5e8",
   "metadata": {},
   "source": [
    "En general lo que más exportamos son café y sus derivados y frutas."
   ]
  },
  {
   "cell_type": "code",
   "execution_count": null,
   "id": "580358ea-7cb7-4db8-8041-fafc28daa032",
   "metadata": {},
   "outputs": [],
   "source": [
    "# TOP 10 categorias de la columa nombre_capitulo que más exportamos por año\n",
    "\n",
    "top_10_categorias = filtered_df['nombre_capitulo'].value_counts().nlargest(10).index\n",
    "nombre_capitulo_filtrado = filtered_df[filtered_df['nombre_capitulo'].isin(top_10_categorias)]\n",
    "conteo_anual = nombre_capitulo_filtrado.groupby(['anio', 'nombre_capitulo']).size().reset_index(name='conteo')\n",
    "\n",
    "fig = px.bar(\n",
    "    conteo_anual,\n",
    "    x='anio',\n",
    "    y='conteo',\n",
    "    color='nombre_capitulo',\n",
    "    title=\"10 Categorías Más Comunes en 'nombre_capitulo' por Año\",\n",
    "    labels={'anio': 'Año', 'conteo': 'Cantidad'},\n",
    "    barmode='group'\n",
    ")\n",
    "fig.show()"
   ]
  },
  {
   "cell_type": "code",
   "execution_count": null,
   "id": "ee6c3c4e-8a27-4870-833c-e470275e4cdb",
   "metadata": {},
   "outputs": [],
   "source": [
    "# ¿Cuáles son los departamentos que más exportan esas 10 categorías?\n",
    "\n",
    "top_10_categorias_code = filtered_df['codigo_capitulo'].value_counts().nlargest(10).index\n",
    "codigo_capitulo_filtrado = filtered_df[filtered_df['codigo_capitulo'].isin(top_10_categorias_code)]\n",
    "conteo_por_categoria_dpto = codigo_capitulo_filtrado.groupby(['codigo_capitulo', 'departamento_origen']).size().reset_index(name='conteo')\n",
    "departamento_top_exportador = conteo_por_categoria_dpto.loc[conteo_por_categoria_dpto.groupby('codigo_capitulo')['conteo'].idxmax()]\n",
    "df_top_exportadores = departamento_top_exportador[['codigo_capitulo', 'departamento_origen', 'conteo']]\n",
    "\n",
    "fig = px.bar(\n",
    "    df_top_exportadores,\n",
    "    x='codigo_capitulo',\n",
    "    y='conteo',\n",
    "    color='departamento_origen',\n",
    "    title=\"Departamentos que más exportan por Categoría\",\n",
    "    labels={'codigo_capitulo': 'Categoría', 'conteo': 'Número de Exportaciones', 'departamento_origen': 'Departamento'},\n",
    ")\n",
    "fig.update_layout(\n",
    "    height=600,\n",
    ")\n",
    "fig.show()\n"
   ]
  },
  {
   "cell_type": "markdown",
   "id": "d66c1ec7-418c-4c55-9e02-8626d41e3ef8",
   "metadata": {},
   "source": [
    "Cata una de las $27$ categorías de la feature `nombre_capitulo` tiene asignado un código en la columna `codigo_capitulo`. La gráfica que está arriba es la gráfica de las 10 categorías más exportadas y cuáles son los departamentos que más las exportan, donde:\n",
    "\n",
    "* La categoría 6 es: `plantas_vivas_y_productos_de_la_floricultura`\n",
    "* La categoría 7 es: `legumbres_y_hortalizas,_plantas,_raíces_y_tubérculos `\n",
    "* La categoría 8 es: `frutos_comestibles,_cortezas_de_agrios_o_melones`\n",
    "* La categoría 9 es: `café,_té,_yerba_mate_y_especias`\n",
    "* La categoría 17 es: `azúcares_y_artículos_confitería `\n",
    "* La categoría 19 es: `preparaciones_a_base_de_cereal,_harina,_leche;_pastelería`\n",
    "* La categoría 21 es: `preparaciones_alimenticias_diversas`\n",
    "* La categoría 29 es: `productos_químicos_orgánicos`\n",
    "* La categoría 33 es: `aceites_esenciales,_perfumería,_cosméticos`\n",
    "* La categoría 42 es: `manufacturas_de_cuero,_artículos_de_viaje,_bolsos `"
   ]
  },
  {
   "cell_type": "code",
   "execution_count": null,
   "id": "b739091d-1ea5-45aa-b991-2365badb1912",
   "metadata": {},
   "outputs": [],
   "source": [
    "# TOP 10 de departamentos que más exportan de manera general\n",
    "\n",
    "top_10_departamentos = filtered_df['departamento_origen'].value_counts().nlargest(10).index\n",
    "dpto_filtrado = filtered_df[filtered_df['departamento_origen'].isin(top_10_departamentos)]\n",
    "\n",
    "conteo_anual = dpto_filtrado.groupby(['anio', 'departamento_origen']).size().reset_index(name='conteo')\n",
    "fig = px.bar(\n",
    "    conteo_anual,\n",
    "    x='anio',\n",
    "    y='conteo',\n",
    "    color='departamento_origen',\n",
    "    title=\"Frecuencia de Exportaciones de los 10 Departamentos Más Comunes por Año\",\n",
    "    labels={'anio': 'Año', 'conteo': 'Cantidad de Exportaciones'},\n",
    "    barmode='group'\n",
    ")\n",
    "\n",
    "fig.show()"
   ]
  },
  {
   "cell_type": "code",
   "execution_count": null,
   "id": "56763bf6-bcb1-4b7c-ab91-5c84ede0e7e8",
   "metadata": {},
   "outputs": [],
   "source": [
    "# Distribucion en escala logarítimica de la variable `dolares_fob`\n",
    "\n",
    "sns.histplot(filtered_df.dolares_fob, log_scale=True, color=\"green\")\n",
    "plt.title(\"Distribución en escala logarítmica de dolares_fob\")"
   ]
  },
  {
   "cell_type": "markdown",
   "id": "71efbfff-8ecb-4a58-8ff4-5592312e47b4",
   "metadata": {},
   "source": [
    "Si vemos la distribución de `dolares_fob`, podemos notar un comportamiento normal y/o Gaussiano. Recordmoes que esto nos permite el uso de pruebas estadísticas paramétricas, como los intervalos de confianza y las pruebas de hipótesis. Estos métodos requieren que los datos se distribuyan normalmente para obtener resultados precisos, lo que facilita la inferencia sobre `dolares_fob`, por ejemplo, al comparar promedios de exportación entre diferentes periodos o regiones; o también para la aplicación de modelos de regresión lineal donde se asume que los datos o los errores están distribuidos normalmente, lo que facilita la interpretación y mejora la robustez de los resultados."
   ]
  },
  {
   "cell_type": "code",
   "execution_count": null,
   "id": "e0d6cd51-aa7f-46da-9771-af79f7aa808e",
   "metadata": {},
   "outputs": [],
   "source": [
    "# TOP 10 Productos mas caros que se exportan\n",
    "\n",
    "df_top_10 = filtered_df[filtered_df['nombre_capitulo'].isin(top_10_categorias)]\n",
    "precio_promedio_anual = df_top_10.groupby(['anio', 'nombre_capitulo'])['dolares_fob'].mean().reset_index()\n",
    "\n",
    "fig = px.line(\n",
    "    precio_promedio_anual,\n",
    "    x='anio',\n",
    "    y='dolares_fob',\n",
    "    color='nombre_capitulo',\n",
    "    title='Precio Promedio Anual (Dólares FOB) de las 10 Categorías Más Exportadas',\n",
    "    labels={'anio': 'Año', 'dolares_fob': 'Precio Promedio (Dólares FOB)', 'nombre_capitulo': 'Categoría'}\n",
    ")\n",
    "fig.show()\n"
   ]
  },
  {
   "cell_type": "code",
   "execution_count": null,
   "id": "80441bc7-1220-47c7-baca-7eb9b0d0edf9",
   "metadata": {},
   "outputs": [],
   "source": [
    "# Kg netos de las 10 categorías de `nombre_capitulo` que más exportamos\n",
    "\n",
    "top_10_kg = filtered_df[filtered_df['nombre_capitulo'].isin(top_10_categorias)]\n",
    "kg_netos_anual = top_10_kg.groupby(['anio', 'nombre_capitulo'])['kilogramos_netos'].sum().reset_index()\n",
    "\n",
    "fig = px.bar(\n",
    "    kg_netos_anual,\n",
    "    x='anio',\n",
    "    y='kilogramos_netos',\n",
    "    color='nombre_capitulo',\n",
    "    title='Total de Kilogramos Netos Exportados por Año para las 10 Categorías Más Frecuentes',\n",
    "    labels={'anio': 'Año', 'kilogramos_netos': 'Kilogramos Netos', 'nombre_capitulo': 'Categoría'},\n",
    "    barmode='group'\n",
    ")\n",
    "fig.show()"
   ]
  },
  {
   "cell_type": "code",
   "execution_count": null,
   "id": "effc5d25-511f-433d-9586-4a4933ceab1d",
   "metadata": {},
   "outputs": [],
   "source": [
    "# Paises a los que mas exportamos\n",
    "\n",
    "top_10_paises = filtered_df['pais_destino'].value_counts().nlargest(10).index\n",
    "paises_filtrados = filtered_df[filtered_df['pais_destino'].isin(top_10_paises)]\n",
    "conteo_paises = paises_filtrados['pais_destino'].value_counts().reset_index(name='conteo')\n",
    "conteo_paises.columns = ['pais_destino', 'conteo']\n",
    "\n",
    "fig = px.bar(\n",
    "    conteo_paises,\n",
    "    x='pais_destino',\n",
    "    y='conteo',\n",
    "    title=\"Top 10 Países a los que Más Exportamos\",\n",
    "    labels={'pais_destino': 'País de Destino', 'conteo': 'Número de Exportaciones'},\n",
    "    color='pais_destino'\n",
    ")\n",
    "\n",
    "fig.update_layout(\n",
    "    height=600\n",
    ")\n",
    "fig.show()"
   ]
  },
  {
   "cell_type": "code",
   "execution_count": null,
   "id": "8b14730f-db9e-4413-a4a0-fc3489ccfcae",
   "metadata": {},
   "outputs": [],
   "source": [
    "# ¿Qué es lo que más exportamos a estos países?\n",
    "\n",
    "for pais in top_10_paises:\n",
    "    pais_df = filtered_df[filtered_df['pais_destino'] == pais]\n",
    "    categorias_exportadas = pais_df['nombre_capitulo'].value_counts().head(5).reset_index(name='conteo')\n",
    "    categorias_exportadas.columns = ['nombre_capitulo', 'conteo']\n",
    "    \n",
    "    fig = px.pie(\n",
    "        categorias_exportadas,\n",
    "        names='nombre_capitulo',\n",
    "        values='conteo',\n",
    "        title=f\"Porcentaje de Categorías Exportadas a {pais}\",\n",
    "        labels={'nombre_capitulo': 'Categoría', 'conteo': 'Número de Exportaciones'},\n",
    "        color='nombre_capitulo',\n",
    "    )\n",
    "    \n",
    "    fig.show()"
   ]
  },
  {
   "cell_type": "markdown",
   "id": "16aead38-b067-49b1-9b9f-a747478f12d1",
   "metadata": {},
   "source": [
    "## **EDA para base de datos #4: Importaciones desagregadas por país de origen, producto, actividad económica y partida arancelaria en valor CIF $US:**\n",
    "\n",
    "En este caso, el análisis exploratorio de datos será exactamente igual al de las exportaciones: ambas bases de datos cuentan con las mismas columnas y una cantidad de información parecida. Por tanto, el código que explicamos a detalle para las exportaciones, lo aplicaremos todo a las importaciones"
   ]
  },
  {
   "cell_type": "code",
   "execution_count": null,
   "id": "64d70144-6318-45dd-a552-386c8e37b448",
   "metadata": {
    "scrolled": true
   },
   "outputs": [],
   "source": [
    "datos_impor = pd.read_csv(\"importations_2018_2024_complete.csv\")\n",
    "Normalize_Columns(datos_impor)\n",
    "datos_impor.head()"
   ]
  },
  {
   "cell_type": "code",
   "execution_count": null,
   "id": "93d6d458-f326-43c3-81e1-0bcc0a79cd40",
   "metadata": {},
   "outputs": [],
   "source": [
    "pattern = '|'.join(filtros)\n",
    "\n",
    "filtered_df_impor = datos_impor[\n",
    "    datos_impor['nombre_partida'].str.contains(pattern, case=False, na=False) |\n",
    "    datos_impor['descripcion_ciiu_rev4'].str.contains(pattern, case=False, na=False) |\n",
    "    datos_impor['nombre_capitulo'].str.contains(pattern, case=False, na=False)\n",
    "]"
   ]
  },
  {
   "cell_type": "markdown",
   "id": "a2663935-111b-4cb1-a612-cae4d4b84ff3",
   "metadata": {},
   "source": [
    "Aparte de aplicar el mismo filtro que usamos para la data de exportaciones, debemos aplicar otro para la data de importaciones. Esto debido a que es una base de datos mucho más robusta que la otra y por ende, los filtros se vuelven menos minuciosos y/o más permisivos por la cantidad de datos. Usando el ensayo y el error, se descartaron las categorías que no tenían que ver con agricultura y que aún así estaban pasando a formar parte del datset lo que nos hubiera podido llevar a conlcusiones erróneas y sesgos en los datos."
   ]
  },
  {
   "cell_type": "code",
   "execution_count": null,
   "id": "63387cc6-8a8d-4e0b-be03-0e06d0043c26",
   "metadata": {},
   "outputs": [],
   "source": [
    "palabras_clave = []\n",
    "for frase in filtros:\n",
    "    palabras = frase.replace(\",\", \"\").replace(\";\", \"\").lower().split()\n",
    "    palabras_clave.extend([palabra for palabra in palabras if len(palabra) > 1])\n",
    "\n",
    "palabras_clave = list(set(palabras_clave))\n",
    "categorias_excluir = [\n",
    "    'productos_químicos_inorgánicos', 'manufacturas_de_piedra,_yeso,_cemento,_mica_y_análogas', \n",
    "    'aparatos_y_material_eléctrico,_de_grabación_o_imagen', 'plomo_y_manufacturas', 'estaño_y_manufacturas', \n",
    "    'demás_metales_comunes,_\"cermets\"_y_manufacturas', 'minerales,_escorias_y_cenizas', \n",
    "    'perlas_finas,_piedras_y_metales_preciosos', 'níquel_y_sus_manufacturas', 'fundición,_hierro_y_acero', \n",
    "    'zinc_y_manufacturas', 'corcho_y_sus_manufacturas', 'productos_diversos_de_las_industrias_químicas', \n",
    "    'extractos_curtientes,_pinturas,_tintas', 'productos_cerámicos', 'cobre_y_sus_manufacturas', \n",
    "    'combustibles_y_aceites_minerales_y_sus_productos', 'materias_albuminoideas,_colas', \n",
    "    'aluminio_y_sus_manufacturas', 'sal;_azufre;_tierras_y_piedras;_yesos,_cales_y_cementos', \n",
    "    'vidrio_y_manufacturas', 'papel,_cartón_y_sus_manufacturas', 'caucho_y_manufacturas'\n",
    "]\n",
    "\n",
    "filtered_df_impor = filtered_df_impor[\n",
    "    (datos_impor[\"nivel_tecnologico\"] == \"manufacturas_basadas_en_recursos_naturales\") | \n",
    "    (datos_impor[\"nivel_tecnologico\"] == \"bienes_primarios\")\n",
    "]\n",
    "\n",
    "filtered_agriculture_df = filtered_df_impor[\n",
    "    filtered_df_impor[['nombre_partida', 'descripcion_ciiu_rev4', 'nombre_capitulo']].apply(\n",
    "        lambda row: any(palabra in str(row[col]).lower() for col in row.index for palabra in palabras_clave), axis=1\n",
    "    ) & ~filtered_df_impor['nombre_capitulo'].isin(categorias_excluir)\n",
    "]\n"
   ]
  },
  {
   "cell_type": "code",
   "execution_count": null,
   "id": "ae2e805e-fb4e-411f-995c-d8dc97d98259",
   "metadata": {},
   "outputs": [],
   "source": [
    "# =============Conteo de categorías de `nombre_capitulo`==========================\n",
    "conteo_categorias = filtered_agriculture_df['nombre_capitulo'].value_counts()\n",
    "\n",
    "fig = px.pie(\n",
    "    names=conteo_categorias.index,\n",
    "    values=conteo_categorias.values,\n",
    "    title=\"Proporción de Categorías en 'nombre_capitulo' para Importaciones\",\n",
    "    hole=0.3\n",
    ")\n",
    "fig.update_layout(\n",
    "    showlegend=True,\n",
    "    width=600,  \n",
    "    height=600 \n",
    ")\n",
    "fig.show()"
   ]
  },
  {
   "cell_type": "code",
   "execution_count": null,
   "id": "1ccabf6e-b4fe-4267-84a0-e62d16f38993",
   "metadata": {},
   "outputs": [],
   "source": [
    "#===========TOP 10 categorias de la columa nombre_capitulo que más importamos por año================================\n",
    "\n",
    "top_10_categorias = filtered_agriculture_df['nombre_capitulo'].value_counts().nlargest(10).index\n",
    "nombre_capitulo_filtrado = filtered_agriculture_df[filtered_agriculture_df['nombre_capitulo'].isin(top_10_categorias)]\n",
    "conteo_anual = nombre_capitulo_filtrado.groupby(['periodo', 'nombre_capitulo']).size().reset_index(name='conteo')\n",
    "\n",
    "fig = px.bar(\n",
    "    conteo_anual,\n",
    "    x='periodo',\n",
    "    y='conteo',\n",
    "    color='nombre_capitulo',\n",
    "    title=\"10 Categorías Más Comunes en 'nombre_capitulo' por Año para Importaciones\",\n",
    "    labels={'periodo': 'Año', 'conteo': 'Cantidad'},\n",
    "    barmode='group'\n",
    ")\n",
    "fig.show()"
   ]
  },
  {
   "cell_type": "code",
   "execution_count": null,
   "id": "d44cf499-2233-4f2b-8326-d6f822e91eea",
   "metadata": {},
   "outputs": [],
   "source": [
    "# ======================¿Cuáles son los departamentos que más importan esas 10 categorías?======================================\n",
    "\n",
    "top_10_categorias_code = filtered_agriculture_df['codigo_capitulo'].value_counts().nlargest(10).index\n",
    "codigo_capitulo_filtrado = filtered_agriculture_df[filtered_agriculture_df['codigo_capitulo'].isin(top_10_categorias_code)]\n",
    "conteo_por_categoria_dpto = codigo_capitulo_filtrado.groupby(['codigo_capitulo', 'departamento_destino']).size().reset_index(name='conteo')\n",
    "departamento_top_exportador = conteo_por_categoria_dpto.loc[conteo_por_categoria_dpto.groupby('codigo_capitulo')['conteo'].idxmax()]\n",
    "df_top_exportadores = departamento_top_exportador[['codigo_capitulo', 'departamento_destino', 'conteo']]\n",
    "\n",
    "fig = px.bar(\n",
    "    df_top_exportadores,\n",
    "    x='codigo_capitulo',\n",
    "    y='conteo',\n",
    "    color='departamento_destino',\n",
    "    title=\"Departamentos que más importan para las 10 categorías más importadas\",\n",
    "    labels={'codigo_capitulo': 'Categoría', 'conteo': 'Número de Exportaciones', 'departamento_destino': 'Departamento'},\n",
    ")\n",
    "fig.update_layout(\n",
    "    height=600,\n",
    ")\n",
    "fig.show()"
   ]
  },
  {
   "cell_type": "code",
   "execution_count": null,
   "id": "5fd58a12-2a34-4726-8814-f4c834fe932b",
   "metadata": {},
   "outputs": [],
   "source": [
    "#===================TOP 10 de departamentos que más importan de manera general==========================================\n",
    "\n",
    "top_10_departamentos = filtered_agriculture_df['departamento_destino'].value_counts().nlargest(10).index\n",
    "dpto_filtrado = filtered_agriculture_df[filtered_agriculture_df['departamento_destino'].isin(top_10_departamentos)]\n",
    "\n",
    "conteo_anual = dpto_filtrado.groupby(['periodo', 'departamento_destino']).size().reset_index(name='conteo')\n",
    "fig = px.bar(\n",
    "    conteo_anual,\n",
    "    x='periodo',\n",
    "    y='conteo',\n",
    "    color='departamento_destino',\n",
    "    title=\"Frecuencia de Importaciones de los 10 Departamentos Más Comunes por Año\",\n",
    "    labels={'periodo': 'Año', 'conteo': 'Cantidad de Exportaciones'},\n",
    "    barmode='group'\n",
    ")\n",
    "\n",
    "fig.show()"
   ]
  },
  {
   "cell_type": "code",
   "execution_count": null,
   "id": "e041f26f-b605-4328-b7a0-f2ff2cc65e9d",
   "metadata": {},
   "outputs": [],
   "source": [
    "#=====Distribución de `dolares_fob` para las importaciones========================\n",
    "\n",
    "sns.histplot(filtered_agriculture_df.dolares_fob, log_scale=True, color=\"green\")\n",
    "plt.title(\"Distribución de `dolares_fob` para las importaciones\")"
   ]
  },
  {
   "cell_type": "markdown",
   "id": "d48e1ea2-5fdf-4ee2-9ca6-0a84461bd1b8",
   "metadata": {},
   "source": [
    "Aunque la curva es más puntiaguda, la distribución de `dolares_fob` es también normal, lo que puede favorecer un modelo de regresión lineal al estar cumpliendo con los supuestos del modelo."
   ]
  },
  {
   "cell_type": "code",
   "execution_count": null,
   "id": "12c97660-3a0a-4c91-a638-a808dc8be974",
   "metadata": {},
   "outputs": [],
   "source": [
    "#=====Distribución de `dolares_cif` para las importaciones========================\n",
    "\n",
    "sns.histplot(filtered_agriculture_df.dolares_cif, log_scale=True, color=\"green\")\n",
    "plt.title(\"Distribución de `dolares_cif` para las importaciones\")"
   ]
  },
  {
   "cell_type": "code",
   "execution_count": null,
   "id": "480c2464-c36c-4adc-ad9c-336fe2faa4ea",
   "metadata": {},
   "outputs": [],
   "source": [
    "#=========TOP 10 Productos mas caros que se importan===============================\n",
    "\n",
    "df_top_10 = filtered_agriculture_df[filtered_agriculture_df['nombre_capitulo'].isin(top_10_categorias)]\n",
    "precio_promedio_anual = df_top_10.groupby(['periodo', 'nombre_capitulo'])['dolares_fob'].mean().reset_index()\n",
    "\n",
    "fig = px.line(\n",
    "    precio_promedio_anual,\n",
    "    x='periodo',\n",
    "    y='dolares_fob',\n",
    "    color='nombre_capitulo',\n",
    "    title='Precio Promedio Anual (Dólares FOB) de las 10 Categorías Más Importadas',\n",
    "    labels={'periodo': 'Año', 'dolares_fob': 'Precio Promedio (Dólares FOB)', 'nombre_capitulo': 'Categoría'}\n",
    ")\n",
    "fig.show()"
   ]
  },
  {
   "cell_type": "code",
   "execution_count": null,
   "id": "205882dc-8e89-4012-b5d0-4edb96270e07",
   "metadata": {},
   "outputs": [],
   "source": [
    "#=========Kg netos de las 10 categorías de `nombre_capitulo` que más exportamos==========================\n",
    "\n",
    "top_10_kg = filtered_agriculture_df[filtered_agriculture_df['nombre_capitulo'].isin(top_10_categorias)]\n",
    "kg_netos_anual = top_10_kg.groupby(['periodo', 'nombre_capitulo'])['kilogramos_netos'].sum().reset_index()\n",
    "\n",
    "fig = px.bar(\n",
    "    kg_netos_anual,\n",
    "    x='periodo',\n",
    "    y='kilogramos_netos',\n",
    "    color='nombre_capitulo',\n",
    "    title='Total de Kilogramos Netos Importados por Año para las 10 Categorías Más Frecuentes',\n",
    "    labels={'Periodo': 'Año', 'kilogramos_netos': 'Kilogramos Netos', 'nombre_capitulo': 'Categoría'},\n",
    "    barmode='group'\n",
    ")\n",
    "fig.show()"
   ]
  },
  {
   "cell_type": "code",
   "execution_count": null,
   "id": "0a05e78a-176b-4c58-9307-863d99cfc530",
   "metadata": {},
   "outputs": [],
   "source": [
    "#=====================Paises de los que mas importamos==================================================\n",
    "\n",
    "top_10_paises = filtered_agriculture_df['pais_de_origen'].value_counts().nlargest(10).index\n",
    "paises_filtrados = filtered_agriculture_df[filtered_agriculture_df['pais_de_origen'].isin(top_10_paises)]\n",
    "conteo_paises = paises_filtrados['pais_de_origen'].value_counts().reset_index(name='conteo')\n",
    "conteo_paises.columns = ['pais_de_origen', 'conteo']\n",
    "\n",
    "fig = px.bar(\n",
    "    conteo_paises,\n",
    "    x='pais_de_origen',\n",
    "    y='conteo',\n",
    "    title=\"Top 10 Países de los que más Importamos\",\n",
    "    labels={'pais_de_origen': 'País de Origen', 'conteo': 'Número de Exportaciones'},\n",
    "    color='pais_de_origen'\n",
    ")\n",
    "\n",
    "fig.update_layout(\n",
    "    height=600\n",
    ")\n",
    "fig.show()"
   ]
  },
  {
   "cell_type": "code",
   "execution_count": null,
   "id": "885d395e-f164-4498-a8f9-50e034170e37",
   "metadata": {},
   "outputs": [],
   "source": [
    "#=====================¿Qué es lo que más importamos de estos países?========================================\n",
    "\n",
    "for pais in top_10_paises:\n",
    "    pais_df = filtered_agriculture_df[filtered_agriculture_df['pais_de_origen'] == pais]\n",
    "    categorias_exportadas = pais_df['nombre_capitulo'].value_counts().head(5).reset_index(name='conteo')\n",
    "    categorias_exportadas.columns = ['nombre_capitulo', 'conteo']\n",
    "    \n",
    "    fig = px.pie(\n",
    "        categorias_exportadas,\n",
    "        names='nombre_capitulo',\n",
    "        values='conteo',\n",
    "        title=f\"Porcentaje de Categorías Importadas de {pais}\",\n",
    "        labels={'nombre_capitulo': 'Categoría', 'conteo': 'Número de Exportaciones'},\n",
    "        color='nombre_capitulo',\n",
    "    )\n",
    "    \n",
    "    fig.show()"
   ]
  },
  {
   "cell_type": "markdown",
   "id": "2f897e63-38fc-49f6-bd34-73cb0337f528",
   "metadata": {},
   "source": [
    "La data de importaciones tiene una feature bastante interesante que se llama `detalle_uso_economico` y qué nos dice cuál va a ser el uso de la importación. Si graficáramos esto podríamos ver para qué propósito se importan más productos en Colombia, tendríamos algo así:"
   ]
  },
  {
   "cell_type": "code",
   "execution_count": null,
   "id": "5d9f1b47-f2c9-4169-88c8-1cd94c7cc99b",
   "metadata": {},
   "outputs": [],
   "source": [
    "value_counts = filtered_agriculture_df['detalle_uso_economico'].value_counts().reset_index()\n",
    "value_counts.columns = ['Detalle Uso Económico', 'Cantidad']\n",
    "\n",
    "fig = px.bar(value_counts, x='Detalle Uso Económico', y='Cantidad', \n",
    "             title='Distribución de Detalle de Uso Económico', \n",
    "             labels={'Detalle Uso Económico': 'Detalle de Uso Económico', 'Cantidad': 'Cantidad'},\n",
    "             color='Cantidad')\n",
    "fig.update_layout(\n",
    "    height=600\n",
    ")\n",
    "fig.show()\n"
   ]
  },
  {
   "cell_type": "markdown",
   "id": "fe69ab1f-29df-461d-a24e-c0bbffcaa422",
   "metadata": {},
   "source": [
    "Donde se muestra que importamos más que todo productos que tienen que ver con el sector minero e industrial."
   ]
  },
  {
   "cell_type": "code",
   "execution_count": null,
   "id": "cb236c99-800c-44cb-9f0a-3db2e5d0ae01",
   "metadata": {},
   "outputs": [],
   "source": [
    "# Para terminar observemos el tamaño de todos los datasets que usamos\n",
    "\n",
    "print(f\"El dataset #1, Exportaciones_agricolas_no_tradicionales_y_tradicionales_20241102, contiene {data.shape[0]} filas y {data.shape[1]} columnas\")\n",
    "print(f\"El dataset #2, Índices de precios de insumos agrícolas, contiene {data2.shape[0]} filas y {data2.shape[1]} columnas\")\n",
    "print(f\"El dataset #3, exportations_2018_2024_complete {data_exporta.shape[0]} filas y {data_exporta.shape[1]} columnas\")\n",
    "print(f\"El dataset #4, importaciones_2018_2024_complete {datos_impor.shape[0]} filas y {datos_impor.shape[1]} columnas\")"
   ]
  },
  {
   "cell_type": "code",
   "execution_count": null,
   "id": "6eec70ba-8988-40d4-a17a-ee8645cb502f",
   "metadata": {},
   "outputs": [],
   "source": []
  },
  {
   "cell_type": "code",
   "execution_count": null,
   "id": "2a7eb2e1-ee1a-438d-a61c-f40962cd8858",
   "metadata": {},
   "outputs": [],
   "source": []
  }
 ],
 "metadata": {
  "kernelspec": {
   "display_name": "Python 3 (ipykernel)",
   "language": "python",
   "name": "python3"
  },
  "language_info": {
   "codemirror_mode": {
    "name": "ipython",
    "version": 3
   },
   "file_extension": ".py",
   "mimetype": "text/x-python",
   "name": "python",
   "nbconvert_exporter": "python",
   "pygments_lexer": "ipython3",
   "version": "3.9.18"
  }
 },
 "nbformat": 4,
 "nbformat_minor": 5
}
>>>>>>> 5991321 (file name)
